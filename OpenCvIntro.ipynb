{
 "cells": [
  {
   "cell_type": "code",
   "execution_count": 199,
   "id": "5dbded8e-ea4c-4c65-829e-cceecd354d1d",
   "metadata": {},
   "outputs": [],
   "source": [
    "import cv2\n"
   ]
  },
  {
   "cell_type": "markdown",
   "id": "d997f8da-ad7f-4f3d-a03d-a13ca50128fd",
   "metadata": {},
   "source": [
    "# Read and Write the picture"
   ]
  },
  {
   "cell_type": "code",
   "execution_count": 200,
   "id": "2eb57b78-e44d-4530-b33c-8870a16669db",
   "metadata": {},
   "outputs": [],
   "source": [
    "img=cv2.imread(r\"C:\\Users\\it solution\\Downloads\\Compressed\\Material For Open Cv\\img10.jpg\")\n",
    "cv2.imshow(\"Img 10\", img)\n",
    "cv2.imshow(\"Img 101\", img)\n",
    "cv2.waitKey(0)\n",
    "cv2.destroyAllWindows()\n",
    "# cv2.destroyWindow('IMg10')"
   ]
  },
  {
   "cell_type": "markdown",
   "id": "ec4ba91a-76e1-4d33-9592-3df46bf198c5",
   "metadata": {},
   "source": [
    "# Resize the picture"
   ]
  },
  {
   "cell_type": "code",
   "execution_count": 201,
   "id": "6bded14e-cb2c-4ace-92ac-95e03f53d6e1",
   "metadata": {},
   "outputs": [],
   "source": [
    "img=cv2.imread(r\"C:\\Users\\it solution\\Downloads\\Compressed\\Material For Open Cv\\img1.jpg\")\n",
    "img_re=cv2.resize(img, (400, 400))\n",
    "cv2.imshow('Img1', img_re)\n",
    "cv2.waitKey(0)\n",
    "cv2.destroyAllWindows()"
   ]
  },
  {
   "cell_type": "markdown",
   "id": "7c387731-14c2-457c-a4b0-7a013f6441ab",
   "metadata": {},
   "source": [
    "# Multiple pics in one Frame"
   ]
  },
  {
   "cell_type": "code",
   "execution_count": 202,
   "id": "b695ae81-6eab-4b4c-b9c5-1bafe94a9313",
   "metadata": {},
   "outputs": [],
   "source": [
    "import numpy as np"
   ]
  },
  {
   "cell_type": "code",
   "execution_count": 203,
   "id": "7abf3285-8113-41d7-af04-10bfccc4dbcf",
   "metadata": {},
   "outputs": [],
   "source": [
    "list=np.array([1, 2, 3, 1, 2, 3])"
   ]
  },
  {
   "cell_type": "code",
   "execution_count": 204,
   "id": "ce02681f-8237-4cdf-a7a9-0d5e4a55b957",
   "metadata": {},
   "outputs": [
    {
     "data": {
      "text/plain": [
       "array([[1, 2, 3, 1, 2, 3],\n",
       "       [1, 2, 3, 1, 2, 3]])"
      ]
     },
     "execution_count": 204,
     "metadata": {},
     "output_type": "execute_result"
    }
   ],
   "source": [
    "np.vstack((list, list))"
   ]
  },
  {
   "cell_type": "code",
   "execution_count": 205,
   "id": "85efe771-6c83-475c-b6d7-149ad924ab06",
   "metadata": {},
   "outputs": [],
   "source": [
    "img=cv2.imread(r\"C:\\Users\\it solution\\Downloads\\Compressed\\Material For Open Cv\\img2.jpg\")\n",
    "img_re=cv2.resize(img, (300, 300))\n",
    "h=np.hstack((img_re, img_re, img_re, img_re))\n",
    "v=np.vstack((h, h, h))\n",
    "cv2.imshow(\"my pics\", v)\n",
    "cv2.waitKey(0)\n",
    "cv2.destroyAllWindows()"
   ]
  },
  {
   "cell_type": "markdown",
   "id": "163f9565-421a-4f03-b312-a6efb24779b8",
   "metadata": {},
   "source": [
    "# picture like slide"
   ]
  },
  {
   "cell_type": "code",
   "execution_count": 206,
   "id": "8e47212f-d614-4f49-affc-bdf2ed4cf2c5",
   "metadata": {},
   "outputs": [],
   "source": [
    "import os"
   ]
  },
  {
   "cell_type": "code",
   "execution_count": 207,
   "id": "a099d190-2077-4ea2-9e0c-fd85fd231ed6",
   "metadata": {},
   "outputs": [
    {
     "data": {
      "text/plain": [
       "['img1.jpg',\n",
       " 'img10.jpg',\n",
       " 'img2.jpg',\n",
       " 'img3.jpg',\n",
       " 'img4.jpg',\n",
       " 'img5.jpg',\n",
       " 'img6.jpg',\n",
       " 'img7.jpg',\n",
       " 'img8.jpg',\n",
       " 'img9.jpg']"
      ]
     },
     "execution_count": 207,
     "metadata": {},
     "output_type": "execute_result"
    }
   ],
   "source": [
    "list_name=os.listdir(r\"C:\\Users\\it solution\\Downloads\\Compressed\\Material For Open Cv\")\n",
    "list_name"
   ]
  },
  {
   "cell_type": "code",
   "execution_count": 208,
   "id": "d0d01733-3539-4c58-94dc-b9690b016060",
   "metadata": {},
   "outputs": [],
   "source": [
    "for name in list_name:\n",
    "    path=\"C:\\\\Users\\\\it solution\\\\Downloads\\\\Compressed\\\\Material For Open Cv\"\n",
    "    img_name=path + \"\\\\\" + name\n",
    "    img=cv2.imread(img_name)\n",
    "    img=cv2.resize(img, (500, 600))\n",
    "    cv2.imshow(\"My pic\", img)\n",
    "    cv2.waitKey()\n",
    "cv2.destroyAllWindows()"
   ]
  },
  {
   "cell_type": "code",
   "execution_count": null,
   "id": "d2208438-4c48-4cbd-a36a-0fc76f2a72e5",
   "metadata": {},
   "outputs": [],
   "source": []
  },
  {
   "cell_type": "markdown",
   "id": "20da98a5-7584-483b-8b12-9a28ed1c9dc8",
   "metadata": {},
   "source": [
    "# Writing the text on image"
   ]
  },
  {
   "cell_type": "code",
   "execution_count": 209,
   "id": "c6495685-927a-4263-8a2b-dd45136007f9",
   "metadata": {},
   "outputs": [],
   "source": [
    "img_get=cv2.imread(r\"C:\\Users\\it solution\\Downloads\\Compressed\\Material For Open Cv\\img2.jpg\")\n",
    "img_get=cv2.resize(img_get, (400, 500))\n",
    "text=cv2.putText(img=img_get,\n",
    "                 text=\"Smantha\", \n",
    "                 org=(5, 400), \n",
    "                 fontFace=cv2.FONT_HERSHEY_DUPLEX, \n",
    "                 fontScale=2, color=(255, 0, 0), \n",
    "                 thickness=3, \n",
    "                 lineType=cv2.LINE_8, \n",
    "                 bottomLeftOrigin=False)\n",
    "\n",
    "text=cv2.putText(img=text,\n",
    "                 text=\"Smantha\", \n",
    "                 org=(5, 410), \n",
    "                 fontFace=cv2.FONT_HERSHEY_DUPLEX, \n",
    "                 fontScale=2, color=(255, 0, 0), \n",
    "                 thickness=3, \n",
    "                 lineType=cv2.LINE_8, \n",
    "                 bottomLeftOrigin=True)\n",
    "\n",
    "cv2.imshow(\"My pic0\", img_get)\n",
    "cv2.waitKey(0)\n",
    "cv2.destroyAllWindows()"
   ]
  },
  {
   "cell_type": "markdown",
   "id": "b7d016c7-7225-4f4e-b23b-a813db3ee36d",
   "metadata": {},
   "source": [
    "# Drawing the line and rectange on image"
   ]
  },
  {
   "cell_type": "code",
   "execution_count": 210,
   "id": "a16dce51-23df-4108-bbb8-cd99f76477ed",
   "metadata": {},
   "outputs": [],
   "source": [
    "old_img=cv2.imread(r\"C:\\Users\\it solution\\Downloads\\Compressed\\Material For Open Cv\\img2.jpg\")\n",
    "old_img=cv2.resize(old_img, (500, 700))\n",
    "# old_img=cv2.line(img=old_img, \n",
    "#                  pt1=(100, 90), \n",
    "#                  pt2=(470, 90), \n",
    "#                  color=(0, 255, 0), \n",
    "#                  thickness=4, \n",
    "#                  lineType=4)\n",
    "\n",
    "\n",
    "\n",
    "\n",
    "old_img=cv2.rectangle(img=old_img, \n",
    "                 pt1=(100, 90), \n",
    "                 pt2=(470, 450), \n",
    "                 color=(255, 255, 0), \n",
    "                 thickness=4, \n",
    "                 lineType=4)\n",
    "\n",
    "\n",
    "\n",
    "\n",
    "# line(img, pt1, pt2, color[, thickness[, lineType[, shift]]])\n",
    "\n",
    "\n",
    "\n",
    "\n",
    "\n",
    "\n",
    "\n",
    "cv2.imshow(\"My pic\", old_img)\n",
    "cv2.waitKey(0)\n",
    "cv2.destroyAllWindows()"
   ]
  },
  {
   "cell_type": "markdown",
   "id": "f23917c3-723a-40e5-9321-127c8e007482",
   "metadata": {},
   "source": [
    "# Draw the circle and Ellipse on Image"
   ]
  },
  {
   "cell_type": "code",
   "execution_count": 211,
   "id": "4f3c36fb-42fe-48a8-8df1-02014d849e0d",
   "metadata": {},
   "outputs": [],
   "source": [
    "old_img=cv2.imread(r\"C:\\Users\\it solution\\Downloads\\Compressed\\Material For Open Cv\\img5.jpg\")\n",
    "old_img=cv2.putText(img=old_img, text=\"Parbhas\",\n",
    "                    org=(250, 100), \n",
    "                    fontFace=cv2.FONT_HERSHEY_PLAIN, fontScale=1.5, color=(255, 0, 255), thickness=2, lineType=16, bottomLeftOrigin=False)\n",
    "# new_img=cv2.circle(img=old_img, center=(210, 100), radius=60, color=(255,0,255), thickness=3, lineType=16)\n",
    "new_img=cv2.ellipse(img=old_img,\n",
    "                    center=(210, 100), axes=(40, 90), angle=380, startAngle=0, endAngle=340, color=(255, 0, 255), thickness=3, lineType=16)\n",
    "\n",
    "\n",
    "\n",
    "\n",
    "\n",
    "cv2.imshow(\"Parbas Pic\", old_img)\n",
    "cv2.waitKey(0)\n",
    "cv2.destroyAllWindows()"
   ]
  },
  {
   "cell_type": "code",
   "execution_count": null,
   "id": "b4c2cada-a1b2-46c4-8f82-f440c3f01d5d",
   "metadata": {},
   "outputs": [],
   "source": []
  },
  {
   "cell_type": "code",
   "execution_count": null,
   "id": "54b6c24e-6850-4e79-aaa3-abb2422c4659",
   "metadata": {},
   "outputs": [],
   "source": []
  },
  {
   "cell_type": "code",
   "execution_count": null,
   "id": "9f9e6e70-9f06-4f49-944d-ac31b10a8e26",
   "metadata": {},
   "outputs": [],
   "source": []
  },
  {
   "cell_type": "code",
   "execution_count": null,
   "id": "06ccbacc-f0ae-41bd-b4d0-185c9ce45a1c",
   "metadata": {},
   "outputs": [],
   "source": []
  },
  {
   "cell_type": "code",
   "execution_count": null,
   "id": "569bf8f4-328a-4f58-b61e-9d1b9d5d2ce2",
   "metadata": {},
   "outputs": [],
   "source": []
  },
  {
   "cell_type": "code",
   "execution_count": null,
   "id": "9376a61e-6d52-4154-a8c4-e978a939efab",
   "metadata": {},
   "outputs": [],
   "source": []
  },
  {
   "cell_type": "code",
   "execution_count": null,
   "id": "4926d0cf-2b13-4342-9ec2-be8b90fad74e",
   "metadata": {},
   "outputs": [],
   "source": []
  }
 ],
 "metadata": {
  "kernelspec": {
   "display_name": "Python 3 (ipykernel)",
   "language": "python",
   "name": "python3"
  },
  "language_info": {
   "codemirror_mode": {
    "name": "ipython",
    "version": 3
   },
   "file_extension": ".py",
   "mimetype": "text/x-python",
   "name": "python",
   "nbconvert_exporter": "python",
   "pygments_lexer": "ipython3",
   "version": "3.11.5"
  }
 },
 "nbformat": 4,
 "nbformat_minor": 5
}
